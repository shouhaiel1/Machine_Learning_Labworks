{
 "cells": [
  {
   "cell_type": "markdown",
   "metadata": {},
   "source": [
    "# PERCEPTRON introductory examples \n",
    "\n",
    "\n",
    "This code illustrates the behaviour of the perceptron using as many inputs as coordinates in \n",
    "an input sample (row), on a binary classification problem. The output decision function is the \n",
    "Heaviside step function. \n",
    "\n",
    "## 1. Description of the  toy data set\n",
    "The data set below consists in a set of 10 samples in $\\mathbb{R}^2$, containing 2 classes, as shown on the graph\n"
   ]
  },
  {
   "cell_type": "code",
   "execution_count": 63,
   "metadata": {
    "scrolled": true
   },
   "outputs": [
    {
     "name": "stdout",
     "output_type": "stream",
     "text": [
      "(10, 3)\n"
     ]
    },
    {
     "data": {
      "text/plain": [
       "10"
      ]
     },
     "execution_count": 63,
     "metadata": {},
     "output_type": "execute_result"
    },
    {
     "data": {
      "image/png": "[encoded data removed]",
      "text/plain": [
       "<Figure size 432x288 with 1 Axes>"
      ]
     },
     "metadata": {
      "needs_background": "light"
     },
     "output_type": "display_data"
    }
   ],
   "source": [
    "import numpy as np\n",
    "%matplotlib inline\n",
    "import matplotlib.pyplot as plt\n",
    "\n",
    "dataset = [[2.7810836,2.550537003,0],\n",
    "    [1.465489372,2.362125076,0],\n",
    "    [3.396561688,4.400293529,0],\n",
    "    [1.38807019,1.850220317,0],\n",
    "    [3.06407232,3.005305973,0],\n",
    "    [7.627531214,2.759262235,1],\n",
    "    [5.332441248,2.088626775,1],\n",
    "    [6.922596716,1.77106367,1],\n",
    "    [8.675418651,-0.242068655,1],\n",
    "    [7.673756466,3.508563011,1]]\n",
    "\n",
    "data=np.asarray(dataset)\n",
    "print(data.shape)\n",
    "\n",
    "dataP=data[data[:,2]==1,0:2]\n",
    "dataN=data[data[:,2]==0,0:2]\n",
    "plt.plot(dataP[:,0],dataP[:,1],'ob');\n",
    "plt.plot(dataN[:,0],dataN[:,1],'or');\n",
    "len(dataset)"
   ]
  },
  {
   "cell_type": "markdown",
   "metadata": {},
   "source": [
    "## 2. Define a single neuron, with a threshold  step activation function \n",
    "\n",
    "**\" Predict\"** function defined below,  computes \n",
    "$$ {\\rm activation} = \\sum_{k=0}^{{\\rm dim}(X)} w[k].X[k] $$\n",
    "where  $w[0]={\\rm bias}$, and $w[k]$, $k=1,\\ldots{\\rm dim}(X)$ are the neuron inputs.  \n",
    "The classification rule is defined at the output of the threshold function as \n",
    "$$ \\hat{y} = \\left\\{ \\begin{array}{ll} +1  \\mbox{ if activation } \\geq 0 \\\\\n",
    "-1 \\mbox{ if activation } < 0 \\end{array} \\right. $$"
   ]
  },
  {
   "cell_type": "code",
   "execution_count": 16,
   "metadata": {
    "scrolled": true
   },
   "outputs": [],
   "source": [
    "# Make a prediction with weights\n",
    "def predict(sample, weights):\n",
    "    activation = weights[0]\n",
    "    for i in range(len(sample)):\n",
    "        activation += weights[i + 1] * sample[i]\n",
    "    #print(activation)\n",
    "    prediction = 1.0 if activation >= 0.0 else 0.0\n",
    "    return prediction,activation"
   ]
  },
  {
   "cell_type": "markdown",
   "metadata": {},
   "source": [
    "### Question \n",
    "- Show that the predict function defines an separation hyperplan in $\\mathbb{R}^{{\\rm dim}(X)}$\n",
    "- Express the equation of the separation line as a function of the $\\{w[k]\\}$ in the case dim$(X)$=2\n",
    "- Show in that latter case that setting $w[2]$=0 amounts to define a threshold on the first coordinate\n",
    "- Propose a set of values for $\\{w[0],w[1],w[2]\\}$ which defines a good classifier for the data above. "
   ]
  },
  {
   "cell_type": "markdown",
   "metadata": {},
   "source": [
    "## 3. Apply 'Predict' to the data samples and vizualize the decision boundaries"
   ]
  },
  {
   "cell_type": "code",
   "execution_count": 48,
   "metadata": {},
   "outputs": [
    {
     "name": "stdout",
     "output_type": "stream",
     "text": [
      "Expected=0, Predicted=0, activation=-1.719\n",
      "Expected=0, Predicted=0, activation=-3.035\n",
      "Expected=0, Predicted=0, activation=-1.103\n",
      "Expected=0, Predicted=0, activation=-3.112\n",
      "Expected=0, Predicted=0, activation=-1.436\n",
      "Expected=1, Predicted=1, activation=3.128\n",
      "Expected=1, Predicted=1, activation=0.832\n",
      "Expected=1, Predicted=1, activation=2.423\n",
      "Expected=1, Predicted=1, activation=4.175\n",
      "Expected=1, Predicted=1, activation=3.174\n"
     ]
    }
   ],
   "source": [
    "w=np.zeros(3); \n",
    "w[0]=-4.5\n",
    "w[1]=1\n",
    "w[2]=0\n",
    "\n",
    "weights = w\n",
    "\n",
    "for row in dataset:\n",
    "    sample=row[:-1]\n",
    "    prediction,activation = predict(sample, weights)\n",
    "    print(\"Expected=%d, Predicted=%d, activation=%.3f\" % (row[-1], prediction, activation))"
   ]
  },
  {
   "cell_type": "markdown",
   "metadata": {},
   "source": [
    "#### Visualize the result for this classifier"
   ]
  },
  {
   "cell_type": "code",
   "execution_count": 54,
   "metadata": {},
   "outputs": [
    {
     "data": {
      "image/png": "[encoded data removed]",
      "text/plain": [
       "<Figure size 432x288 with 1 Axes>"
      ]
     },
     "metadata": {
      "needs_background": "light"
     },
     "output_type": "display_data"
    }
   ],
   "source": [
    "x=np.linspace(0,10,50)\n",
    "y=np.linspace(-1,4.5,50)\n",
    "X,Y= np.meshgrid(x,y)\n",
    "XY = np.vstack([X.flatten(), Y.flatten()]).T\n",
    "Z=[]\n",
    "\n",
    "for sample in XY:\n",
    "    z,a=predict(sample,weights)\n",
    "    Z.append(z)\n",
    "    \n",
    "Z=np.asarray(Z)\n",
    "\n",
    "plt.plot(dataP[:,0],dataP[:,1],'or')\n",
    "plt.plot(dataN[:,0],dataN[:,1],'ob')\n",
    "plt.scatter(XY[Z==0,0],XY[Z==0,1],s=1,c='b',marker='.')\n",
    "plt.scatter(XY[Z==1,0],XY[Z==1,1],s=1,c='r',marker='.')\n",
    "plt.show()"
   ]
  },
  {
   "cell_type": "markdown",
   "metadata": {},
   "source": [
    "### Question :\n",
    "* What is the equation of the boundary? \n",
    "* What is the value of the bias (or intercept)? \n",
    "* Is this solution unique? "
   ]
  },
  {
   "cell_type": "markdown",
   "metadata": {},
   "source": [
    "## 4. Learning weights, using SGD (Stochastic Gradient Descent)"
   ]
  },
  {
   "cell_type": "markdown",
   "metadata": {},
   "source": [
    "SGD means that the optimization is conducted by taking one sample at a time. "
   ]
  },
  {
   "cell_type": "code",
   "execution_count": 55,
   "metadata": {},
   "outputs": [
    {
     "name": "stdout",
     "output_type": "stream",
     "text": [
      ">epoch=0, lrate=0.100, error=2.000\n",
      ">epoch=1, lrate=0.100, error=1.000\n",
      ">epoch=2, lrate=0.100, error=0.000\n",
      ">epoch=3, lrate=0.100, error=0.000\n",
      "[-0.1, 0.20653640140000007, -0.23418117710000003]\n"
     ]
    }
   ],
   "source": [
    "# Estimate Perceptron weights using stochastic gradient descent\n",
    "def train_weights(train, l_rate, n_epoch):\n",
    "    weights = [0.0 for i in range(len(train[0]))]  # init weights are set to 0. \n",
    "    for epoch in range(n_epoch): # here, the number of epochs is set a priori. \n",
    "        sum_error = 0.0\n",
    "        for row in train:  # .... for each observation,\n",
    "            sample=row[:-1]\n",
    "            prediction,activation = predict(sample, weights)\n",
    "            error = row[-1] - prediction  # row[-1] refers to the last element in row (here, it is the label)\n",
    "            sum_error += error**2\n",
    "            weights[0] = weights[0] + l_rate * error  # l_rate = learing rate. \n",
    "            for i in range(len(row)-1):   # len(row)-1 is the number of inputs (including bias)\n",
    "                weights[i + 1] = weights[i + 1] + l_rate * error * row[i]\n",
    "        print('>epoch=%d, lrate=%.3f, error=%.3f' % (epoch, l_rate, sum_error))\n",
    "    return weights\n",
    "\n",
    "l_rate = 0.1\n",
    "n_epoch =4\n",
    "weights = train_weights(dataset, l_rate, n_epoch)\n",
    "print(weights)\n"
   ]
  },
  {
   "cell_type": "code",
   "execution_count": 65,
   "metadata": {},
   "outputs": [
    {
     "data": {
      "text/plain": [
       "2"
      ]
     },
     "execution_count": 65,
     "metadata": {},
     "output_type": "execute_result"
    }
   ],
   "source": [
    "len(row)-1"
   ]
  },
  {
   "cell_type": "markdown",
   "metadata": {},
   "source": [
    "### Question\n",
    "- How many operation (take only multiplicaiton into acocunt) are necessary to complete an epoch in the function train_weights defined above? "
   ]
  },
  {
   "cell_type": "markdown",
   "metadata": {},
   "source": [
    "### 5. Apply the weights estimated by SGD and visualize classication results\n",
    "\n",
    "This section proposes 3 méthods to visualize the classification results :"
   ]
  },
  {
   "cell_type": "code",
   "execution_count": 66,
   "metadata": {},
   "outputs": [
    {
     "data": {
      "text/plain": [
       "<matplotlib.colorbar.Colorbar at 0x133123d02b0>"
      ]
     },
     "execution_count": 66,
     "metadata": {},
     "output_type": "execute_result"
    },
    {
     "data": {
      "image/png": "[encoded data removed]",
      "text/plain": [
       "<Figure size 864x288 with 4 Axes>"
      ]
     },
     "metadata": {
      "needs_background": "light"
     },
     "output_type": "display_data"
    }
   ],
   "source": [
    "# prediction of labels using new weights\n",
    "for row in dataset:\n",
    "    sample=row[:-1]\n",
    "    prediction,activation = predict(sample, weights)\n",
    "    \n",
    "# Visualization\n",
    "\n",
    "plt.figure(figsize=[12,4])\n",
    "\n",
    "# plot the separating hyperplane equation\n",
    "plt.subplot(131)   \n",
    "x=np.linspace(0,8.7,50)\n",
    "yf = -weights[0]*np.ones_like(x)\n",
    "yf += -weights[1]*x\n",
    "yf /= weights[2] \n",
    "\n",
    "plt.plot(dataP[:,0],dataP[:,1],'or')\n",
    "plt.plot(dataN[:,0],dataN[:,1],'ob')    \n",
    "plt.axis([0, 9, -1, 4.5])\n",
    "plt.plot(x,yf);\n",
    "\n",
    "# test the sampled observation plane and plot the decision region \n",
    "plt.subplot(132) \n",
    "y=np.linspace(-1,8,50)\n",
    "X,Y= np.meshgrid(x,y)\n",
    "XY = np.vstack([X.flatten(), Y.flatten()]).T\n",
    "Z=[]\n",
    "A=[]\n",
    "for sample in XY:\n",
    "    z,a=predict(sample,weights)\n",
    "    Z.append(z) , A.append(a)\n",
    "    \n",
    "Z=np.asarray(Z)\n",
    "A=np.asarray(A)\n",
    "\n",
    "plt.plot(dataP[:,0],dataP[:,1],'or')\n",
    "plt.plot(dataN[:,0],dataN[:,1],'ob')\n",
    "plt.scatter(XY[Z==0,0],XY[Z==0,1],s=1,c='b',marker='.')\n",
    "plt.scatter(XY[Z==1,0],XY[Z==1,1],s=1,c='r',marker='.')\n",
    "plt.axis([0, 9, -1, 4.5])\n",
    "xmin, xmax, ymin, ymax = plt.axis()\n",
    "#plt.show()\n",
    "\n",
    "# plot the values of the activation values obtained by sampling the observation plane\n",
    "plt.subplot(133) \n",
    "A=np.reshape(A,[x.size,y.size])\n",
    "plt.contourf(X,Y,A, levels=20)\n",
    "plt.plot(dataP[:,0],dataP[:,1],'or')\n",
    "plt.plot(dataN[:,0],dataN[:,1],'ob')\n",
    "plt.plot(x,yf,'k');\n",
    "plt.axis([xmin, xmax, ymin, ymax])\n",
    "plt.colorbar()"
   ]
  },
  {
   "cell_type": "markdown",
   "metadata": {},
   "source": [
    "### Question \n",
    "- Which of the three representations above is the more informative? "
   ]
  },
  {
   "cell_type": "markdown",
   "metadata": {},
   "source": [
    "### 6. Using Scikit-learn perceptron function\n",
    "https://scikit-learn.org/stable/modules/generated/sklearn.linear_model.Perceptron.html#sklearn.linear_model.Perceptronlen(dataset)"
   ]
  },
  {
   "cell_type": "code",
   "execution_count": 67,
   "metadata": {},
   "outputs": [
    {
     "name": "stdout",
     "output_type": "stream",
     "text": [
      "Estimates weights =[-1.          2.67602374 -3.14159841]\n"
     ]
    },
    {
     "data": {
      "image/png": "[encoded data removed]",
      "text/plain": [
       "<Figure size 432x288 with 1 Axes>"
      ]
     },
     "metadata": {
      "needs_background": "light"
     },
     "output_type": "display_data"
    }
   ],
   "source": [
    "from sklearn.linear_model import Perceptron\n",
    "\n",
    "X=[] \n",
    "y=[]\n",
    "for i in range(len(dataset)):\n",
    "    X.append(dataset[i][:-1])\n",
    "    y.append(dataset[i][-1])\n",
    "\n",
    "\n",
    "clf = Perceptron(eta0=1.0,fit_intercept=True, max_iter=1000, n_iter_no_change=5, \\\n",
    "                 random_state=0, shuffle=True, tol=0.001, \\\n",
    "                 validation_fraction=0.1)\n",
    "clf.fit(X,y)\n",
    "w=np.zeros(3)\n",
    "w[0]=clf.intercept_\n",
    "w[1:3]=clf.coef_\n",
    "print(\"Estimates weights ={}\".format(w))\n",
    "\n",
    "# Visu of decision regions\n",
    "x=np.linspace(0,8.7,50)\n",
    "y=np.linspace(-1,8,50)\n",
    "X,Y= np.meshgrid(x,y)\n",
    "XY = np.vstack([X.flatten(), Y.flatten()]).T\n",
    "\n",
    "Z=clf.predict(XY)\n",
    "\n",
    "plt.plot(dataP[:,0],dataP[:,1],'or')\n",
    "plt.plot(dataN[:,0],dataN[:,1],'ob')\n",
    "plt.scatter(XY[Z==0,0],XY[Z==0,1],s=1,c='b',marker='.')\n",
    "plt.scatter(XY[Z==1,0],XY[Z==1,1],s=1,c='r',marker='.')\n",
    "xmin, xmax, ymin, ymax = plt.axis()"
   ]
  },
  {
   "cell_type": "markdown",
   "metadata": {},
   "source": [
    "### Question\n",
    "- Using the sklearn reference documentation, identify the role of the parameters \"Shuffle\" and \"Validation_fraction\"\n",
    "- Discuss the interest of introducing such parameters\n",
    "- What was the value of parameter \"eta0\" in our \"train_weights\" code? "
   ]
  },
  {
   "cell_type": "markdown",
   "metadata": {},
   "source": [
    "## 7. Problem : \n",
    "\n",
    "A two class problem is considered, for concentric anulus classes. \n",
    "The data are synthetized then represented below :"
   ]
  },
  {
   "cell_type": "code",
   "execution_count": 69,
   "metadata": {},
   "outputs": [
    {
     "data": {
      "image/png": "[encoded data removed]",
      "text/plain": [
       "<Figure size 432x288 with 1 Axes>"
      ]
     },
     "metadata": {
      "needs_background": "light"
     },
     "output_type": "display_data"
    }
   ],
   "source": [
    "import numpy as np\n",
    "\n",
    "std=.1\n",
    "N=250\n",
    "\n",
    "M1=(np.random.randn(N)*std+1)\n",
    "P1=(np.random.rand(N)*3*np.pi)\n",
    "y1=np.ones(len(M1))\n",
    "M2=(np.random.randn(N)*std*2)\n",
    "P2=(np.random.rand(N)*2*np.pi)\n",
    "y2=np.ones(len(M1))*-1\n",
    "M=np.concatenate((M1,M2))\n",
    "P=np.concatenate((P1,P2))\n",
    "\n",
    "X=np.column_stack((M,P))\n",
    "label=np.concatenate((y1,y2))\n",
    "\n",
    "data=np.multiply(M,np.exp(1j*P))\n",
    "plt.scatter(data.real,data.imag,c=label,s=10)\n",
    "plt.axis('square');\n",
    "#plt.plot(M,'or')\n",
    "#plt.plot(P,'ob')\n"
   ]
  },
  {
   "cell_type": "markdown",
   "metadata": {},
   "source": [
    "### Question \n",
    "- Do you think that a perceptron (also called single layer perceptron) is a performant classifier for this problem?\n",
    "\n",
    "Learning the perceptron from the learning set (X,y) and visulizing the decision region is performed below:"
   ]
  },
  {
   "cell_type": "code",
   "execution_count": 76,
   "metadata": {},
   "outputs": [],
   "source": [
    "\n",
    "clf = Perceptron(eta0=.1,fit_intercept=True, max_iter=10000, n_iter_no_change=5, \\\n",
    "                 random_state=0, shuffle=True, tol=0.001, \\\n",
    "                 validation_fraction=0.1,warm_start=True)\n",
    "clf.fit(X,label)\n",
    "\n",
    "# Visu of decision regions\n",
    "x=np.linspace(-1.5,1.5,100)\n",
    "y=np.linspace(-1.5,1.5,100)\n",
    "xx,yy= np.meshgrid(x,y)\n",
    "XY = np.vstack([xx.flatten(), yy.flatten()]).T\n",
    "\n",
    "XVisu = np.zeros((len(XY),2))\n",
    "for i in range(len(XVisu)):\n",
    "    XVisu[i][0]=np.sqrt(np.sum(XY[i]**2))\n",
    "    XVisu[i][1]=np.angle(XY[i][0]+1j*XY[i][1])\n",
    "    \n",
    "Z=clf.predict(XVisu)   \n",
    "plt.scatter(XY[Z==-1,0],XY[Z==-1,1],s=1,c='b',marker='.')\n",
    "plt.scatter(XY[Z==1,0],XY[Z==1,1],s=1,c='y',marker='.')\n",
    "plt.scatter(data.real,data.imag,c=label,s=10)\n",
    "plt.axis('square');"
   ]
  },
  {
   "cell_type": "markdown",
   "metadata": {},
   "source": [
    "### Question \n",
    "- Run the code above a few times : descibe the shape of the decision regions that you obtain\n",
    "- Is it in contradiction with the property of (single layer) perceptron qtating that their are linear separators?\n",
    "- What do you conclude about the choice of the representation space of the analyzed data?"
   ]
  },
  {
   "cell_type": "code",
   "execution_count": null,
   "metadata": {},
   "outputs": [],
   "source": []
  }
 ],
 "metadata": {
  "kernelspec": {
   "display_name": "Python 3",
   "language": "python",
   "name": "python3"
  },
  "language_info": {
   "codemirror_mode": {
    "name": "ipython",
    "version": 3
   },
   "file_extension": ".py",
   "mimetype": "text/x-python",
   "name": "python",
   "nbconvert_exporter": "python",
   "pygments_lexer": "ipython3",
   "version": "3.8.3"
  }
 },
 "nbformat": 4,
 "nbformat_minor": 2
}
