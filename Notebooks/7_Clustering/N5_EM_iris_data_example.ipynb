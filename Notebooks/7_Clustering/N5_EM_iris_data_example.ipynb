{
 "cells": [
  {
   "cell_type": "markdown",
   "metadata": {},
   "source": [
    "This notebook can be run on mybinder: [![Binder](https://mybinder.org/badge_logo.svg)](https://mybinder.org/v2/git/https%3A%2F%2Fgricad-gitlab.univ-grenoble-alpes.fr%2Fchatelaf%2Fml-sicom3a/master?urlpath=lab/tree/notebooks/7_EM_iris_data_example/)"
   ]
  },
  {
   "cell_type": "markdown",
   "metadata": {},
   "source": [
    "# GMM covariances\n",
    "\n",
    "Demonstration of several covariances types for Gaussian mixture models (GMM).\n",
    "\n",
    "See the [sklearn guide on GMM](https://scikit-learn.org/stable/modules/generated/sklearn.mixture.GaussianMixture.html#sklearn.mixture.GaussianMixture) for more information on the estimator.\n",
    "\n",
    "We apply GMM on the  iris dataset. This  dataset is four-dimensional, but only the first two\n",
    "dimensions are shown here, and thus some points are separated in other\n",
    "dimensions.\n",
    "We plot the shape of the estimated clusters and the AIC/BIC criteria to estimate the optimal number of clusters.\n",
    "Note that we initialize the means of the Gaussians with the means of the true classes from the training set to make\n",
    "this comparison valid for several covariances types for GMM.\n",
    "\n",
    "<!--Although GMM are often used for clustering, we can compare the obtained\n",
    "clusters with the actual classes from the dataset. We initialize the means\n",
    "of the Gaussians with the means of the classes from the training set to make\n",
    "this comparison valid.\n",
    "\n",
    "We plot predicted labels on both training and held out test data using a\n",
    "variety of GMM covariance types on the iris dataset.\n",
    "We compare GMMs with spherical, diagonal, full, and tied covariance\n",
    "matrices in increasing order of performance. Although one would\n",
    "expect full covariance to perform best in general, it is prone to\n",
    "overfitting on small datasets and does not generalize well to held out\n",
    "test data.\n",
    "\n",
    "On the plots, train data is shown as dots, while test data is shown as\n",
    "crosses. The iris dataset is four-dimensional. Only the first two\n",
    "dimensions are shown here, and thus some points are separated in other\n",
    "dimensions.-->\n",
    "\n",
    "\n"
   ]
  },
  {
   "cell_type": "markdown",
   "metadata": {},
   "source": [
    "This is a simplified version of the code of this [sklearn example](https://scikit-learn.org/stable/auto_examples/mixture/plot_gmm_covariances.html#sphx-glr-auto-examples-mixture-plot-gmm-covariances-py)."
   ]
  },
  {
   "cell_type": "code",
   "execution_count": 1,
   "metadata": {},
   "outputs": [],
   "source": [
    "import matplotlib as mpl\n",
    "import matplotlib.pyplot as plt\n",
    "import numpy as np\n",
    "from sklearn import datasets\n",
    "from sklearn.mixture import GaussianMixture\n",
    "from sklearn.model_selection import StratifiedKFold\n",
    "\n",
    "%matplotlib inline"
   ]
  },
  {
   "cell_type": "markdown",
   "metadata": {},
   "source": [
    "# Iris data - EM clustering\n",
    "Note that while labels are available for this data set, they will not be used in GMM identification.  "
   ]
  },
  {
   "cell_type": "code",
   "execution_count": 2,
   "metadata": {},
   "outputs": [],
   "source": [
    "iris = datasets.load_iris()\n",
    "\n",
    "X_train = iris.data\n",
    "y_train = iris.target\n",
    "\n",
    "n_classes = len(\n",
    "    np.unique(y_train)\n",
    ")  # list the unique elements in y_train : nb of different labels"
   ]
  },
  {
   "cell_type": "markdown",
   "metadata": {},
   "source": [
    "## GMM model estimation"
   ]
  },
  {
   "cell_type": "code",
   "execution_count": 3,
   "metadata": {},
   "outputs": [],
   "source": [
    "# Try GMMs using full covariance (no constraints imposed on cov)\n",
    "\n",
    "cv_type = \"full\"\n",
    "#cv_type = \"tied\"\n",
    "#cv_type = \"diagonal\"\n",
    "#cv_type = \"spherical\"\n",
    "estimator = GaussianMixture(\n",
    "    n_components=n_classes, covariance_type=cv_type, max_iter=50, random_state=0\n",
    ")"
   ]
  },
  {
   "cell_type": "markdown",
   "metadata": {},
   "source": [
    "# !! \n",
    "Lines below initialize with centers of mass of each cluster, as labels are known...\n",
    "Usually, 3 different centers are required, chosen at random. It this latter case, the correct\n",
    "    clusters are extracted, up to some circular permutation on the labels"
   ]
  },
  {
   "cell_type": "code",
   "execution_count": 4,
   "metadata": {},
   "outputs": [
    {
     "data": {
      "text/plain": [
       "GaussianMixture(max_iter=50,\n",
       "                means_init=array([[5.006, 3.428, 1.462, 0.246],\n",
       "       [5.936, 2.77 , 4.26 , 1.326],\n",
       "       [6.588, 2.974, 5.552, 2.026]]),\n",
       "                n_components=3, random_state=0)"
      ]
     },
     "execution_count": 4,
     "metadata": {},
     "output_type": "execute_result"
    }
   ],
   "source": [
    "# Since we have class labels for the training data, we can\n",
    "# initialize the GMM parameters in a supervised manner.\n",
    "estimator.means_init = np.array(\n",
    "    [X_train[y_train == i].mean(axis=0) for i in range(n_classes)]\n",
    ")\n",
    "\n",
    "estimator.fit(X_train)"
   ]
  },
  {
   "cell_type": "code",
   "execution_count": 5,
   "metadata": {},
   "outputs": [
    {
     "name": "stdout",
     "output_type": "stream",
     "text": [
      "[[[0.121765   0.097232   0.016028   0.010124  ]\n",
      "  [0.097232   0.140817   0.011464   0.009112  ]\n",
      "  [0.016028   0.011464   0.029557   0.005948  ]\n",
      "  [0.010124   0.009112   0.005948   0.010885  ]]\n",
      "\n",
      " [[0.27555846 0.09657992 0.18562554 0.05486324]\n",
      "  [0.09657992 0.09253766 0.0910186  0.04299954]\n",
      "  [0.18562554 0.0910186  0.20266592 0.06184329]\n",
      "  [0.05486324 0.04299954 0.06184329 0.03239585]]\n",
      "\n",
      " [[0.38754333 0.09223946 0.30243691 0.06078315]\n",
      "  [0.09223946 0.11041919 0.08379036 0.05570474]\n",
      "  [0.30243691 0.08379036 0.32566732 0.07253285]\n",
      "  [0.06078315 0.05570474 0.07253285 0.08471718]]]\n"
     ]
    }
   ],
   "source": [
    "print(estimator.covariances_)\n",
    "# print(estimator.covariances_[1][1:3,1:3])"
   ]
  },
  {
   "cell_type": "code",
   "execution_count": 6,
   "metadata": {},
   "outputs": [
    {
     "name": "stdout",
     "output_type": "stream",
     "text": [
      "[[5.006      3.428      1.462      0.246     ]\n",
      " [5.91743867 2.77807834 4.20602834 1.29872958]\n",
      " [6.54663103 2.94958567 5.48422408 1.98765097]]\n"
     ]
    }
   ],
   "source": [
    "print(estimator.means_)\n",
    "#estimator.means_[0, 0::2]"
   ]
  },
  {
   "cell_type": "markdown",
   "metadata": {},
   "source": [
    "## Ploting results : \n",
    "choose the  axis pair to visualize "
   ]
  },
  {
   "cell_type": "code",
   "execution_count": 7,
   "metadata": {},
   "outputs": [
    {
     "data": {
      "image/png": "[encoded data removed]",
      "text/plain": [
       "<Figure size 432x288 with 1 Axes>"
      ]
     },
     "metadata": {
      "needs_background": "light"
     },
     "output_type": "display_data"
    }
   ],
   "source": [
    "# for K clusters, specify K colors  (here K=3)\n",
    "colors = [\"navy\", \"turquoise\", \"darkorange\"]\n",
    "\n",
    "fig, ax = plt.subplots(subplot_kw={\"aspect\": \"equal\"})\n",
    "\n",
    "axes = [\"x2\", \"x4\"]\n",
    "for n, color in enumerate(colors):\n",
    "    # defines ellipses parameters, using eigen-axes\n",
    "    data = iris.data[iris.target == n]\n",
    "    if axes == [\"x1\", \"x2\"]:\n",
    "        covariances = estimator.covariances_[n][0:2, 0:2]\n",
    "        plt.scatter(\n",
    "            data[:, 0], data[:, 1], s=10, color=color, label=iris.target_names[n]\n",
    "        )\n",
    "        Est_means = estimator.means_[n, 0:2]\n",
    "    elif axes == [\"x1\", \"x3\"]:\n",
    "        covariances = estimator.covariances_[n][0::2, 0::2]\n",
    "        plt.scatter(\n",
    "            data[:, 0], data[:, 2], s=10, color=color, label=iris.target_names[n]\n",
    "        )\n",
    "        Est_means = estimator.means_[n, 0::2]\n",
    "    elif axes == [\"x1\", \"x4\"]:\n",
    "        covariances = estimator.covariances_[n][0::3, 0::3]\n",
    "        plt.scatter(\n",
    "            data[:, 0], data[:, 3], s=10, color=color, label=iris.target_names[n]\n",
    "        )\n",
    "        Est_means = estimator.means_[n, 0::3]\n",
    "    elif axes == [\"x2\", \"x3\"]:\n",
    "        covariances = estimator.covariances_[n][1:3, 1:3]\n",
    "        plt.scatter(\n",
    "            data[:, 1], data[:, 2], s=10, color=color, label=iris.target_names[n]\n",
    "        )\n",
    "        Est_means = estimator.means_[n, 1:3]\n",
    "    elif axes == [\"x2\", \"x4\"]:\n",
    "        covariances = estimator.covariances_[n][1::2, 1::2]\n",
    "        plt.scatter(\n",
    "            data[:, 1], data[:, 3], s=10, color=color, label=iris.target_names[n]\n",
    "        )\n",
    "        Est_means = estimator.means_[n, 1::2]\n",
    "    elif axes == [\"x3\", \"x4\"]:\n",
    "        covariances = estimator.covariances_[n][2:, 2:]\n",
    "        plt.scatter(\n",
    "            data[:, 2], data[:, 3], s=10, color=color, label=iris.target_names[n]\n",
    "        )\n",
    "        Est_means = estimator.means_[n, 2:]\n",
    "\n",
    "    v, w = np.linalg.eigh(covariances)\n",
    "    u = w[0] / np.linalg.norm(w[0])\n",
    "    angle = np.arctan2(u[1], u[0])\n",
    "    angle = 180 * angle / np.pi  # convert to degrees\n",
    "    v = 2.0 * np.sqrt(2.0) * np.sqrt(v)\n",
    "    ell = mpl.patches.Ellipse(Est_means, v[0], v[1], 180 + angle, color=color)\n",
    "    # dplot the ellipses\n",
    "    ell.set_clip_box(ax.bbox)\n",
    "    ell.set_alpha(0.5)\n",
    "    ax.add_artist(ell)\n",
    "    ax.set_aspect(\"auto\")\n",
    "\n",
    "\n",
    "# for visualizing axe1 vs axe2, use \"covariances = estimator.covariances_[n][0:2, 0:2]\"\n",
    "# for visualizing axe1 vs axe3, use \"covariances = estimator.covariances_[n][0::2, 0::2]\"\n",
    "# for visualizing axe1 vs axe4, use \"covariances = estimator.covariances_[n][0::3, 0::3]\"\n",
    "# for visualizing axe2 vs axe3, use \"covariances = estimator.covariances_[n][1:3, 1:3]\"\n",
    "# for visualizing axe2 vs axe4, use \"covariances = estimator.covariances_[n][1::2, 1::2]\"\n",
    "# for visualizing axe3 vs axe4, use \"covariances = estimator.covariances_[n][2:, 2:]\""
   ]
  },
  {
   "cell_type": "code",
   "execution_count": 9,
   "metadata": {},
   "outputs": [
    {
     "name": "stdout",
     "output_type": "stream",
     "text": [
      "bic = [574.01783272 580.86127847 629.83784882 674.43878158 726.14923081]\n",
      "aic = [486.70940919 448.39332553 452.21036647 451.65176982 458.20268963]\n"
     ]
    },
    {
     "data": {
      "image/png": "[encoded data removed]",
      "text/plain": [
       "<Figure size 432x288 with 1 Axes>"
      ]
     },
     "metadata": {
      "needs_background": "light"
     },
     "output_type": "display_data"
    }
   ],
   "source": [
    "import itertools\n",
    "from scipy import linalg\n",
    "from sklearn import mixture\n",
    "\n",
    "lowest_bic = np.infty\n",
    "bic = []\n",
    "aic = []\n",
    "n_components_range = range(2, 7)\n",
    "\n",
    "\n",
    "for n_comp in n_components_range:\n",
    "    # Fit a Gaussian mixture with EM\n",
    "    gmm = GaussianMixture(\n",
    "        n_components=n_comp, covariance_type=cv_type, max_iter=1000, random_state=1\n",
    "    )\n",
    "    gmm.fit(X_train)\n",
    "    # bic.append(gmm.aic(X_train))\n",
    "    bic.append(gmm.bic(X_train))\n",
    "    aic.append(gmm.aic(X_train))\n",
    "bic = np.array(bic)\n",
    "aic = np.array(aic)\n",
    "\n",
    "# Plot the BIC scores\n",
    "\n",
    "plt.plot(np.linspace(2, 6, 5), bic, \"b\", label=\"bic\")\n",
    "plt.plot(np.linspace(2, 6, 5), aic, \"r\", label=\"aic\")\n",
    "plt.legend()\n",
    "plt.grid('On')\n",
    "print(\"bic = {}\".format(bic))\n",
    "print(\"aic = {}\".format(aic))"
   ]
  },
  {
   "cell_type": "markdown",
   "metadata": {},
   "source": [
    "### (Optional) Exercise 12\n",
    "- Comment on the number of clusters estimated with the BIC and AIC criteria respectively.\n",
    "- Change the shape of the clusters by setting some constraints on the GMM covariances (`tied` for a covariance common to all clusters, `diagonal`, or `spherical` for a covariance proportional to the identity matrix, see cell 3) and re-run the estimation/visualization/model selection cells. Comment on the cluster shapes and the AIC/BIC criterion obtained."
   ]
  }
 ],
 "metadata": {
  "kernelspec": {
   "display_name": "Python [conda env:calc]",
   "language": "python",
   "name": "conda-env-calc-py"
  },
  "language_info": {
   "codemirror_mode": {
    "name": "ipython",
    "version": 3
   },
   "file_extension": ".py",
   "mimetype": "text/x-python",
   "name": "python",
   "nbconvert_exporter": "python",
   "pygments_lexer": "ipython3",
   "version": "3.7.9"
  },
  "widgets": {
   "application/vnd.jupyter.widget-state+json": {
    "state": {},
    "version_major": 2,
    "version_minor": 0
   }
  }
 },
 "nbformat": 4,
 "nbformat_minor": 4
}
