{
 "cells": [
  {
   "cell_type": "markdown",
   "metadata": {},
   "source": [
    "This notebook can be run on mybinder: [![Binder](https://mybinder.org/badge_logo.svg)](https://mybinder.org/v2/git/https%3A%2F%2Fgricad-gitlab.univ-grenoble-alpes.fr%2Fchatelaf%2Fml-sicom3a/master?urlpath=lab/tree/notebooks/7_Clustering/N4_EM_basic.ipynb/)"
   ]
  },
  {
   "cell_type": "markdown",
   "metadata": {},
   "source": [
    "# EM basic example \n",
    "The purpose of this labwork is to implement a Gaussian Mixture Model Clustering algorithm, using Expectation Maximization (EM) method. First, a code is proposed on a 1D example implementing directly the theoretical formula from the lecture. Second, the obtained results are compared with the results obtained using sklearn GMM function. "
   ]
  },
  {
   "cell_type": "markdown",
   "metadata": {},
   "source": [
    "## Data import from matlab file"
   ]
  },
  {
   "cell_type": "code",
   "execution_count": 1,
   "metadata": {},
   "outputs": [],
   "source": [
    "import numpy as np\n",
    "import matplotlib.pyplot as plt\n",
    "from scipy.io import loadmat\n",
    "import scipy.stats as stats\n",
    "\n",
    "%matplotlib inline\n",
    "\n",
    "Data_train = loadmat(\"fictitious_train.mat\")\n",
    "# Data_train.keys()\n",
    "\n",
    "X = Data_train.get(\"Xtrain\")\n",
    "# H=Data_train.get('__header__')\n",
    "# print(\"dimensions ox X ={}\".format(X.shape))"
   ]
  },
  {
   "cell_type": "markdown",
   "metadata": {},
   "source": [
    "## initialization of parameters and Kernel computation\n",
    "- note that here, the number of clusters is set a priori "
   ]
  },
  {
   "cell_type": "code",
   "execution_count": 2,
   "metadata": {},
   "outputs": [],
   "source": [
    "# EM\n",
    "N = X.size\n",
    "K = 2\n",
    "p = 1\n",
    "MaxIter = 100\n",
    "# init\n",
    "perm = np.random.permutation(N)[0:2]\n",
    "pivec = np.ones((K, 1)) / K\n",
    "muvec = np.zeros((K, p))\n",
    "sigvec = np.zeros((K, p * p))\n",
    "postpr = np.zeros((N, K))\n",
    "\n",
    "for k in range(0, K):\n",
    "    muvec[k, :] = X[perm[k], :]  # different means\n",
    "    sigvec[k, :] = np.var(X) * 19 / 20"
   ]
  },
  {
   "cell_type": "markdown",
   "metadata": {},
   "source": [
    "### Exercise 8 \n",
    "- Identify the arrays above wrt to the characteristics of the GMM introduced in the lecture\n",
    "- Explain why different means are initialized, whereas same variances may be used\n",
    "- Comment the line codes below, briefly"
   ]
  },
  {
   "cell_type": "code",
   "execution_count": 3,
   "metadata": {},
   "outputs": [
    {
     "name": "stdout",
     "output_type": "stream",
     "text": [
      "muvec=[[1.08316181]\n",
      " [4.65591281]]\n",
      "sigvec=[[0.81137062]\n",
      " [0.81879357]]\n",
      "pivec=[[0.55459023]\n",
      " [0.44540977]]\n",
      "postpr=[[9.99999461e-01 5.38521833e-07]\n",
      " [9.99995050e-01 4.95044601e-06]\n",
      " [9.99823688e-01 1.76311678e-04]\n",
      " [9.95747409e-01 4.25259057e-03]\n",
      " [9.93710854e-01 6.28914640e-03]\n",
      " [8.89707868e-01 1.10292132e-01]\n",
      " [2.85816487e-02 9.71418351e-01]\n",
      " [2.50298339e-03 9.97497017e-01]\n",
      " [1.49882100e-04 9.99850118e-01]\n",
      " [1.01763339e-05 9.99989824e-01]\n",
      " [9.99996187e-01 3.81270397e-06]\n",
      " [9.99976260e-01 2.37396020e-05]\n",
      " [9.99760741e-01 2.39258867e-04]\n",
      " [9.95558293e-01 4.44170743e-03]\n",
      " [9.92518202e-01 7.48179846e-03]\n",
      " [1.88075235e-01 8.11924765e-01]\n",
      " [5.04628243e-03 9.94953718e-01]\n",
      " [6.13285415e-04 9.99386715e-01]\n",
      " [3.06604930e-05 9.99969340e-01]\n",
      " [4.83048832e-07 9.99999517e-01]]\n"
     ]
    }
   ],
   "source": [
    "# A posteriori Proba to be in a class\n",
    "\n",
    "for t in range(0, MaxIter):\n",
    "    # E-Step\n",
    "    for i in range(0, N):\n",
    "        px = 0\n",
    "        for k in range(0, K):\n",
    "            px = px + pivec[k] * stats.norm.pdf(\n",
    "                X[i], muvec[k, :], np.sqrt(sigvec[k, :])\n",
    "            )\n",
    "\n",
    "        for k in range(0, K):\n",
    "            postpr[i, k] = (\n",
    "                pivec[k] * stats.norm.pdf(X[i], muvec[k, :], np.sqrt(sigvec[k, :])) / px\n",
    "            )\n",
    "\n",
    "    # M-step\n",
    "    for k in range(0, K):\n",
    "        pivec[k, :] = np.mean(postpr[:, k])\n",
    "        muvec[k, :] = np.sum(np.reshape(postpr[:, k], (N, p)) * X) / np.sum(\n",
    "            postpr[:, k]\n",
    "        )  # a*b = a.*b matlab\n",
    "        sigvec[k, :] = np.sum(\n",
    "            np.reshape(postpr[:, k], (N, p)) * (X - muvec[k, :]) ** 2\n",
    "        ) / np.sum(postpr[:, k])\n",
    "\n",
    "\n",
    "print(\"muvec={}\".format(muvec))\n",
    "print(\"sigvec={}\".format(sigvec))\n",
    "print(\"pivec={}\".format(pivec))\n",
    "print(\"postpr={}\".format(postpr))"
   ]
  },
  {
   "cell_type": "markdown",
   "metadata": {},
   "source": [
    "### Exercise 9 \n",
    "- What is the array that informs about the labels that should be assigned to each observation? Print an example. \n",
    "- Below, the plot displays the 2 Gaussian pdfs involved in the mixture; add the mixture distribution to that plot. "
   ]
  },
  {
   "cell_type": "code",
   "execution_count": 4,
   "metadata": {},
   "outputs": [
    {
     "data": {
      "image/png": "[encoded data removed]",
      "text/plain": [
       "<Figure size 432x288 with 1 Axes>"
      ]
     },
     "metadata": {
      "needs_background": "light"
     },
     "output_type": "display_data"
    }
   ],
   "source": [
    "Xt = np.linspace(-2, 8, 1000)\n",
    "g0 = stats.norm.pdf(Xt, muvec[0], np.sqrt(sigvec[0]))\n",
    "g1 = stats.norm.pdf(Xt, muvec[1], np.sqrt(sigvec[1]))\n",
    "g = pivec[0] * g0 + pivec[1] * g1\n",
    "plt.plot(Xt, g0, label=\"g0\")\n",
    "plt.plot(Xt, g1, label=\"g1\")\n",
    "#plt.plot(Xt, g, label=\"g\")\n",
    "plt.legend()\n",
    "plt.xlabel(\"X\");"
   ]
  },
  {
   "cell_type": "markdown",
   "metadata": {},
   "source": [
    "## Sklearn implementation"
   ]
  },
  {
   "cell_type": "code",
   "execution_count": 5,
   "metadata": {},
   "outputs": [
    {
     "name": "stdout",
     "output_type": "stream",
     "text": [
      "est.cov=[0.80453749 0.82470987]\n",
      "est.means=[1.07911119 4.65159155]\n",
      "est.weights=[0.55342265 0.44657735]\n"
     ]
    }
   ],
   "source": [
    "from sklearn.mixture import GaussianMixture\n",
    "\n",
    "# Try GMMs using full covariance (no constraints imposed on cov)\n",
    "est = GaussianMixture(\n",
    "    n_components=2, covariance_type=\"full\", max_iter=MaxIter, random_state=0\n",
    ")\n",
    "\n",
    "est.fit(X)\n",
    "\n",
    "print(\"est.cov={}\".format(est.covariances_.squeeze()))\n",
    "print(\"est.means={}\".format(est.means_.squeeze()))\n",
    "print(\"est.weights={}\".format(est.weights_))"
   ]
  },
  {
   "cell_type": "markdown",
   "metadata": {},
   "source": [
    "### Exercise 10\n",
    "- compare the results obtained with sklearn with the previously obtained results. \n",
    "- Comments? \n",
    "- Add the mixture pdf to the plot"
   ]
  },
  {
   "cell_type": "code",
   "execution_count": 6,
   "metadata": {},
   "outputs": [
    {
     "data": {
      "text/plain": [
       "Text(0.5, 0, 'X')"
      ]
     },
     "execution_count": 6,
     "metadata": {},
     "output_type": "execute_result"
    },
    {
     "data": {
      "image/png": "[encoded data removed]",
      "text/plain": [
       "<Figure size 432x288 with 1 Axes>"
      ]
     },
     "metadata": {
      "needs_background": "light"
     },
     "output_type": "display_data"
    }
   ],
   "source": [
    "Xt = np.linspace(-2, 8, 1000)\n",
    "g0sklearn = stats.norm.pdf(\n",
    "    Xt, np.squeeze(est.means_[0]), np.sqrt(np.squeeze(est.covariances_[0]))\n",
    ")\n",
    "\n",
    "g1sklearn = stats.norm.pdf(\n",
    "    Xt, np.squeeze(est.means_[1]), np.sqrt(np.squeeze(est.covariances_[1]))\n",
    ")\n",
    "\n",
    "#gsklearn = est.weights_[0] * g0sklearn + est.weights_[1] * g1sklearn\n",
    "\n",
    "plt.plot(Xt, g0sklearn, label=\"g0sklearn\")\n",
    "plt.plot(Xt, g1sklearn, label=\"g1sklearn\")\n",
    "#plt.plot(Xt, gsklearn, label=\"gsklearn\")\n",
    "plt.legend()\n",
    "plt.xlabel(\"X\")"
   ]
  },
  {
   "cell_type": "code",
   "execution_count": 7,
   "metadata": {},
   "outputs": [
    {
     "data": {
      "text/plain": [
       "<matplotlib.collections.PathCollection at 0x7f3b819bc990>"
      ]
     },
     "execution_count": 7,
     "metadata": {},
     "output_type": "execute_result"
    },
    {
     "data": {
      "image/png": "[encoded data removed]",
      "text/plain": [
       "<Figure size 432x288 with 1 Axes>"
      ]
     },
     "metadata": {
      "needs_background": "light"
     },
     "output_type": "display_data"
    }
   ],
   "source": [
    "# Kmeans vs EM\n",
    "resp0 = pivec[0] * g0 / g\n",
    "resp1 = pivec[1] * g1 / g\n",
    "\n",
    "plt.plot(Xt, resp0, label=\"responsability class0\")\n",
    "plt.plot(Xt, resp1, label=\"responsability class1\")\n",
    "\n",
    "Y = est.fit_predict(X)\n",
    "plt.scatter(\n",
    "    X[Y == 0], np.ones_like(X[Y == 0]) * 0.5, color=\"red\", marker=\"+\", label=\"class 0\"\n",
    ")\n",
    "plt.scatter(\n",
    "    X[Y == 1], np.ones_like(X[Y == 1]) * 0.5, color=\"blue\", marker=\"+\", label=\"class 1\"\n",
    ")\n",
    "# plt.legend();"
   ]
  },
  {
   "cell_type": "markdown",
   "metadata": {},
   "source": [
    "### Exercise 11\n",
    "- Compare and interpret Kmeans wrt EM; \n",
    "- Interpret the responsibility functions resp0 and resp1. \n",
    "- Why is EM sometimes interpreted as a \"soft-Kmeans\" algorithm? What would be the responsibility curves for Kmeans? "
   ]
  },
  {
   "cell_type": "code",
   "execution_count": null,
   "metadata": {},
   "outputs": [],
   "source": []
  }
 ],
 "metadata": {
  "kernelspec": {
   "display_name": "Python 3",
   "language": "python",
   "name": "python3"
  },
  "language_info": {
   "codemirror_mode": {
    "name": "ipython",
    "version": 3
   },
   "file_extension": ".py",
   "mimetype": "text/x-python",
   "name": "python",
   "nbconvert_exporter": "python",
   "pygments_lexer": "ipython3",
   "version": "3.8.3"
  },
  "widgets": {
   "application/vnd.jupyter.widget-state+json": {
    "state": {},
    "version_major": 2,
    "version_minor": 0
   }
  }
 },
 "nbformat": 4,
 "nbformat_minor": 4
}
